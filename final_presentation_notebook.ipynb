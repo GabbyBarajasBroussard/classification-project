{
 "cells": [
  {
   "cell_type": "code",
   "execution_count": 1,
   "metadata": {},
   "outputs": [],
   "source": [
    "# Preparing the notebook by importing necessary modules\n",
    "from scipy import stats\n",
    "from math import sqrt\n",
    "from sklearn.model_selection import train_test_split\n",
    "from sklearn.linear_model import LogisticRegression\n",
    "from sklearn.tree import DecisionTreeClassifier\n",
    "from sklearn.ensemble import RandomForestClassifier\n",
    "from sklearn.metrics import classification_report\n",
    "from sklearn.metrics import confusion_matrix\n",
    "from sklearn.neighbors import KNeighborsClassifier"
   ]
  },
  {
   "cell_type": "code",
   "execution_count": 2,
   "metadata": {},
   "outputs": [],
   "source": [
    "import pandas as pd\n",
    "import numpy as np\n",
    "import seaborn as sns\n",
    "import matplotlib.pyplot as plt\n",
    "%matplotlib inline"
   ]
  },
  {
   "cell_type": "code",
   "execution_count": 3,
   "metadata": {},
   "outputs": [],
   "source": [
    "import warnings\n",
    "warnings.filterwarnings(\"ignore\")"
   ]
  },
  {
   "cell_type": "markdown",
   "metadata": {},
   "source": [
    "# Acquire "
   ]
  },
  {
   "cell_type": "code",
   "execution_count": 4,
   "metadata": {},
   "outputs": [],
   "source": [
    "import acquire"
   ]
  },
  {
   "cell_type": "code",
   "execution_count": 5,
   "metadata": {},
   "outputs": [],
   "source": [
    "# Loading the acquired data into a data frame called acquired. This is my raw data from the Codeup Student Database.\n",
    "acquired= acquire.get_telco_data()"
   ]
  },
  {
   "cell_type": "code",
   "execution_count": 6,
   "metadata": {},
   "outputs": [
    {
     "name": "stdout",
     "output_type": "stream",
     "text": [
      "<class 'pandas.core.frame.DataFrame'>\n",
      "RangeIndex: 7043 entries, 0 to 7042\n",
      "Data columns (total 25 columns):\n",
      " #   Column                    Non-Null Count  Dtype  \n",
      "---  ------                    --------------  -----  \n",
      " 0   Unnamed: 0                7043 non-null   int64  \n",
      " 1   payment_type_id           7043 non-null   int64  \n",
      " 2   internet_service_type_id  7043 non-null   int64  \n",
      " 3   contract_type_id          7043 non-null   int64  \n",
      " 4   customer_id               7043 non-null   object \n",
      " 5   gender                    7043 non-null   object \n",
      " 6   senior_citizen            7043 non-null   int64  \n",
      " 7   partner                   7043 non-null   object \n",
      " 8   dependents                7043 non-null   object \n",
      " 9   tenure                    7043 non-null   int64  \n",
      " 10  phone_service             7043 non-null   object \n",
      " 11  multiple_lines            7043 non-null   object \n",
      " 12  online_security           7043 non-null   object \n",
      " 13  online_backup             7043 non-null   object \n",
      " 14  device_protection         7043 non-null   object \n",
      " 15  tech_support              7043 non-null   object \n",
      " 16  streaming_tv              7043 non-null   object \n",
      " 17  streaming_movies          7043 non-null   object \n",
      " 18  paperless_billing         7043 non-null   object \n",
      " 19  monthly_charges           7043 non-null   float64\n",
      " 20  total_charges             7043 non-null   object \n",
      " 21  churn                     7043 non-null   object \n",
      " 22  contract_type             7043 non-null   object \n",
      " 23  internet_service_type     7043 non-null   object \n",
      " 24  payment_type              7043 non-null   object \n",
      "dtypes: float64(1), int64(6), object(18)\n",
      "memory usage: 1.3+ MB\n"
     ]
    }
   ],
   "source": [
    "#Visualizing the column names, amount of nulls, amount of entries per column and column data types\n",
    "acquired.info()"
   ]
  },
  {
   "cell_type": "markdown",
   "metadata": {},
   "source": [
    "#### Using .info, we are able to visualize that there are 7043 clients with telco.  The data types that make up the dataframe consist of integers, objects, and floats."
   ]
  },
  {
   "cell_type": "markdown",
   "metadata": {},
   "source": [
    "#### Visualizing the basic statistical details such as percentile, mean, std etc. of the numerical values in a data frame"
   ]
  },
  {
   "cell_type": "code",
   "execution_count": 7,
   "metadata": {},
   "outputs": [],
   "source": [
    "# Dropping the Unnamed column before proceeding due to it being a int64 column\n",
    "acquired= acquired.drop(columns=['Unnamed: 0'])"
   ]
  },
  {
   "cell_type": "code",
   "execution_count": 8,
   "metadata": {},
   "outputs": [
    {
     "data": {
      "text/html": [
       "<div>\n",
       "<style scoped>\n",
       "    .dataframe tbody tr th:only-of-type {\n",
       "        vertical-align: middle;\n",
       "    }\n",
       "\n",
       "    .dataframe tbody tr th {\n",
       "        vertical-align: top;\n",
       "    }\n",
       "\n",
       "    .dataframe thead th {\n",
       "        text-align: right;\n",
       "    }\n",
       "</style>\n",
       "<table border=\"1\" class=\"dataframe\">\n",
       "  <thead>\n",
       "    <tr style=\"text-align: right;\">\n",
       "      <th></th>\n",
       "      <th>payment_type_id</th>\n",
       "      <th>internet_service_type_id</th>\n",
       "      <th>contract_type_id</th>\n",
       "      <th>senior_citizen</th>\n",
       "      <th>tenure</th>\n",
       "      <th>monthly_charges</th>\n",
       "    </tr>\n",
       "  </thead>\n",
       "  <tbody>\n",
       "    <tr>\n",
       "      <th>count</th>\n",
       "      <td>7043.000000</td>\n",
       "      <td>7043.000000</td>\n",
       "      <td>7043.000000</td>\n",
       "      <td>7043.000000</td>\n",
       "      <td>7043.000000</td>\n",
       "      <td>7043.000000</td>\n",
       "    </tr>\n",
       "    <tr>\n",
       "      <th>mean</th>\n",
       "      <td>2.315633</td>\n",
       "      <td>1.872923</td>\n",
       "      <td>1.690473</td>\n",
       "      <td>0.162147</td>\n",
       "      <td>32.371149</td>\n",
       "      <td>64.761692</td>\n",
       "    </tr>\n",
       "    <tr>\n",
       "      <th>std</th>\n",
       "      <td>1.148907</td>\n",
       "      <td>0.737796</td>\n",
       "      <td>0.833755</td>\n",
       "      <td>0.368612</td>\n",
       "      <td>24.559481</td>\n",
       "      <td>30.090047</td>\n",
       "    </tr>\n",
       "    <tr>\n",
       "      <th>min</th>\n",
       "      <td>1.000000</td>\n",
       "      <td>1.000000</td>\n",
       "      <td>1.000000</td>\n",
       "      <td>0.000000</td>\n",
       "      <td>0.000000</td>\n",
       "      <td>18.250000</td>\n",
       "    </tr>\n",
       "    <tr>\n",
       "      <th>25%</th>\n",
       "      <td>1.000000</td>\n",
       "      <td>1.000000</td>\n",
       "      <td>1.000000</td>\n",
       "      <td>0.000000</td>\n",
       "      <td>9.000000</td>\n",
       "      <td>35.500000</td>\n",
       "    </tr>\n",
       "    <tr>\n",
       "      <th>50%</th>\n",
       "      <td>2.000000</td>\n",
       "      <td>2.000000</td>\n",
       "      <td>1.000000</td>\n",
       "      <td>0.000000</td>\n",
       "      <td>29.000000</td>\n",
       "      <td>70.350000</td>\n",
       "    </tr>\n",
       "    <tr>\n",
       "      <th>75%</th>\n",
       "      <td>3.000000</td>\n",
       "      <td>2.000000</td>\n",
       "      <td>2.000000</td>\n",
       "      <td>0.000000</td>\n",
       "      <td>55.000000</td>\n",
       "      <td>89.850000</td>\n",
       "    </tr>\n",
       "    <tr>\n",
       "      <th>max</th>\n",
       "      <td>4.000000</td>\n",
       "      <td>3.000000</td>\n",
       "      <td>3.000000</td>\n",
       "      <td>1.000000</td>\n",
       "      <td>72.000000</td>\n",
       "      <td>118.750000</td>\n",
       "    </tr>\n",
       "  </tbody>\n",
       "</table>\n",
       "</div>"
      ],
      "text/plain": [
       "       payment_type_id  internet_service_type_id  contract_type_id  \\\n",
       "count      7043.000000               7043.000000       7043.000000   \n",
       "mean          2.315633                  1.872923          1.690473   \n",
       "std           1.148907                  0.737796          0.833755   \n",
       "min           1.000000                  1.000000          1.000000   \n",
       "25%           1.000000                  1.000000          1.000000   \n",
       "50%           2.000000                  2.000000          1.000000   \n",
       "75%           3.000000                  2.000000          2.000000   \n",
       "max           4.000000                  3.000000          3.000000   \n",
       "\n",
       "       senior_citizen       tenure  monthly_charges  \n",
       "count     7043.000000  7043.000000      7043.000000  \n",
       "mean         0.162147    32.371149        64.761692  \n",
       "std          0.368612    24.559481        30.090047  \n",
       "min          0.000000     0.000000        18.250000  \n",
       "25%          0.000000     9.000000        35.500000  \n",
       "50%          0.000000    29.000000        70.350000  \n",
       "75%          0.000000    55.000000        89.850000  \n",
       "max          1.000000    72.000000       118.750000  "
      ]
     },
     "execution_count": 8,
     "metadata": {},
     "output_type": "execute_result"
    }
   ],
   "source": [
    "acquired.describe()"
   ]
  },
  {
   "cell_type": "markdown",
   "metadata": {},
   "source": [
    "#### Plotting the distributions of the numerical columns"
   ]
  },
  {
   "cell_type": "code",
   "execution_count": 9,
   "metadata": {},
   "outputs": [
    {
     "data": {
      "text/plain": [
       "Text(0, 0.5, 'Count of Clients in each Tenure')"
      ]
     },
     "execution_count": 9,
     "metadata": {},
     "output_type": "execute_result"
    },
    {
     "data": {
      "image/png": "[encoded data removed]",
      "text/plain": [
       "<Figure size 1440x720 with 5 Axes>"
      ]
     },
     "metadata": {
      "needs_background": "light"
     },
     "output_type": "display_data"
    }
   ],
   "source": [
    "plt.figure(figsize=(20, 10))\n",
    "\n",
    "plt.suptitle(\"Plotting the distributions of the numerical columns\")\n",
    "# row, columns, index\n",
    "plt.subplot(2, 3, 1)\n",
    "plt.hist(acquired.payment_type_id, align='left', edgecolor='darkblue', alpha=0.5, color='cornflowerblue')\n",
    "plt.title('Payment Type ID')\n",
    "plt.xlabel(\"Payment Type\")\n",
    "plt.ylabel(\"Count of Payment Type\")\n",
    "plt.xlim([0, 5])\n",
    "plt.xticks(np.arange(0, 5, 1))\n",
    "\n",
    "plt.subplot(2, 3, 2)\n",
    "plt.hist(acquired.internet_service_type_id, align='left', edgecolor='darkblue', alpha=0.5, color='cornflowerblue')\n",
    "plt.title('Internet Service Type ID')\n",
    "plt.xlabel(\"Internet Type\")\n",
    "plt.ylabel(\"Count of Internet Type\")\n",
    "plt.xlim([0, 4])\n",
    "plt.xticks(np.arange(0, 4, 1))\n",
    "\n",
    "plt.subplot(2, 3, 3)\n",
    "plt.hist(acquired.contract_type_id, align='left', edgecolor='darkblue', alpha=0.5, color='cornflowerblue')\n",
    "plt.title('Contract Service Type ID')\n",
    "plt.xlabel(\"Contract Type\")\n",
    "plt.ylabel(\"Count of each Contract Type\")\n",
    "plt.xlim([0, 4])\n",
    "plt.xticks(np.arange(0, 4, 1))\n",
    "\n",
    "plt.subplot(2, 3, 4)\n",
    "plt.hist(acquired.senior_citizen, align='left', edgecolor='darkblue', alpha=0.5, color='cornflowerblue')\n",
    "plt.title('Senior Citizen')\n",
    "plt.xlabel(\"Yes or No Senior Citizen\")\n",
    "plt.ylabel(\"Number of Senior Citizen\")\n",
    "plt.xlim([0, 2])\n",
    "plt.xticks(np.arange(-1, 2, 1))\n",
    "\n",
    "plt.subplot(2, 3, 5)\n",
    "plt.hist(acquired.tenure, align='left', edgecolor='darkblue', alpha=0.5, color='cornflowerblue')\n",
    "plt.title('Tenure')\n",
    "plt.xlabel(\"Amount of Tenure\")\n",
    "plt.ylabel(\"Count of Clients in each Tenure\")"
   ]
  },
  {
   "cell_type": "markdown",
   "metadata": {
    "slideshow": {
     "slide_type": "-"
    }
   },
   "source": [
    "# Prepare "
   ]
  },
  {
   "cell_type": "code",
   "execution_count": 10,
   "metadata": {},
   "outputs": [
    {
     "name": "stdout",
     "output_type": "stream",
     "text": [
      "<class 'pandas.core.frame.DataFrame'>\n",
      "RangeIndex: 7043 entries, 0 to 7042\n",
      "Data columns (total 25 columns):\n",
      " #   Column                    Non-Null Count  Dtype  \n",
      "---  ------                    --------------  -----  \n",
      " 0   Unnamed: 0                7043 non-null   int64  \n",
      " 1   payment_type_id           7043 non-null   int64  \n",
      " 2   internet_service_type_id  7043 non-null   int64  \n",
      " 3   contract_type_id          7043 non-null   int64  \n",
      " 4   customer_id               7043 non-null   object \n",
      " 5   gender                    7043 non-null   object \n",
      " 6   senior_citizen            7043 non-null   int64  \n",
      " 7   partner                   7043 non-null   object \n",
      " 8   dependents                7043 non-null   object \n",
      " 9   tenure                    7043 non-null   int64  \n",
      " 10  phone_service             7043 non-null   object \n",
      " 11  multiple_lines            7043 non-null   object \n",
      " 12  online_security           7043 non-null   object \n",
      " 13  online_backup             7043 non-null   object \n",
      " 14  device_protection         7043 non-null   object \n",
      " 15  tech_support              7043 non-null   object \n",
      " 16  streaming_tv              7043 non-null   object \n",
      " 17  streaming_movies          7043 non-null   object \n",
      " 18  paperless_billing         7043 non-null   object \n",
      " 19  monthly_charges           7043 non-null   float64\n",
      " 20  total_charges             7043 non-null   object \n",
      " 21  churn                     7043 non-null   object \n",
      " 22  contract_type             7043 non-null   object \n",
      " 23  internet_service_type     7043 non-null   object \n",
      " 24  payment_type              7043 non-null   object \n",
      "dtypes: float64(1), int64(6), object(18)\n",
      "memory usage: 1.3+ MB\n",
      "<class 'pandas.core.frame.DataFrame'>\n",
      "RangeIndex: 7043 entries, 0 to 7042\n",
      "Data columns (total 16 columns):\n",
      " #   Column                 Non-Null Count  Dtype  \n",
      "---  ------                 --------------  -----  \n",
      " 0   gender                 7043 non-null   object \n",
      " 1   multiple_lines         7043 non-null   object \n",
      " 2   monthly_charges        7043 non-null   float64\n",
      " 3   total_charges          7043 non-null   object \n",
      " 4   contract_type          7043 non-null   object \n",
      " 5   internet_service_type  7043 non-null   object \n",
      " 6   payment_type           7043 non-null   object \n",
      " 7   years_tenure           7043 non-null   float64\n",
      " 8   is_family              7043 non-null   bool   \n",
      " 9   is_senior              7043 non-null   bool   \n",
      " 10  has_phones             7043 non-null   bool   \n",
      " 11  has_paperless_billing  7043 non-null   bool   \n",
      " 12  has_streaming          7043 non-null   bool   \n",
      " 13  has_support_features   7043 non-null   bool   \n",
      " 14  has_security_features  7043 non-null   bool   \n",
      " 15  is_churn               7043 non-null   uint8  \n",
      "dtypes: bool(7), float64(2), object(6), uint8(1)\n",
      "memory usage: 495.3+ KB\n"
     ]
    }
   ],
   "source": [
    "import prepare"
   ]
  },
  {
   "cell_type": "code",
   "execution_count": 11,
   "metadata": {},
   "outputs": [],
   "source": [
    "# importing the cleaned telco data\n",
    "telco = prepare.clean_telco()"
   ]
  },
  {
   "cell_type": "code",
   "execution_count": 13,
   "metadata": {},
   "outputs": [
    {
     "name": "stdout",
     "output_type": "stream",
     "text": [
      "<class 'pandas.core.frame.DataFrame'>\n",
      "Int64Index: 7043 entries, 0 to 7042\n",
      "Data columns (total 16 columns):\n",
      " #   Column                 Non-Null Count  Dtype  \n",
      "---  ------                 --------------  -----  \n",
      " 0   gender                 7043 non-null   object \n",
      " 1   multiple_lines         7043 non-null   object \n",
      " 2   monthly_charges        7043 non-null   float64\n",
      " 3   total_charges          7043 non-null   object \n",
      " 4   contract_type          7043 non-null   object \n",
      " 5   internet_service_type  7043 non-null   object \n",
      " 6   payment_type           7043 non-null   object \n",
      " 7   years_tenure           7043 non-null   float64\n",
      " 8   is_family              7043 non-null   bool   \n",
      " 9   is_senior              7043 non-null   bool   \n",
      " 10  has_phones             7043 non-null   bool   \n",
      " 11  has_paperless_billing  7043 non-null   bool   \n",
      " 12  has_streaming          7043 non-null   bool   \n",
      " 13  has_support_features   7043 non-null   bool   \n",
      " 14  has_security_features  7043 non-null   bool   \n",
      " 15  is_churn               7043 non-null   uint8  \n",
      "dtypes: bool(7), float64(2), object(6), uint8(1)\n",
      "memory usage: 550.2+ KB\n"
     ]
    }
   ],
   "source": [
    "# visualizing the cleaned telco data\n",
    "telco.info()"
   ]
  },
  {
   "cell_type": "code",
   "execution_count": 18,
   "metadata": {},
   "outputs": [
    {
     "name": "stdout",
     "output_type": "stream",
     "text": [
      "Male      3555\n",
      "Female    3488\n",
      "Name: gender, dtype: int64 \n",
      " \n",
      "\n",
      "Male      0.504756\n",
      "Female    0.495244\n",
      "Name: gender, dtype: float64\n",
      "No                  3390\n",
      "Yes                 2971\n",
      "No phone service     682\n",
      "Name: multiple_lines, dtype: int64 \n",
      " \n",
      "\n",
      "No                  0.481329\n",
      "Yes                 0.421837\n",
      "No phone service    0.096834\n",
      "Name: multiple_lines, dtype: float64\n",
      "20.2       11\n",
      "           11\n",
      "19.75       9\n",
      "19.9        8\n",
      "20.05       8\n",
      "           ..\n",
      "81.25       1\n",
      "4805.65     1\n",
      "8033.1      1\n",
      "3838.75     1\n",
      "1010        1\n",
      "Name: total_charges, Length: 6531, dtype: int64 \n",
      " \n",
      "\n",
      "20.2       0.001562\n",
      "           0.001562\n",
      "19.75      0.001278\n",
      "19.9       0.001136\n",
      "20.05      0.001136\n",
      "             ...   \n",
      "81.25      0.000142\n",
      "4805.65    0.000142\n",
      "8033.1     0.000142\n",
      "3838.75    0.000142\n",
      "1010       0.000142\n",
      "Name: total_charges, Length: 6531, dtype: float64\n",
      "Month-to-month    3875\n",
      "Two year          1695\n",
      "One year          1473\n",
      "Name: contract_type, dtype: int64 \n",
      " \n",
      "\n",
      "Month-to-month    0.550192\n",
      "Two year          0.240664\n",
      "One year          0.209144\n",
      "Name: contract_type, dtype: float64\n",
      "Fiber optic    3096\n",
      "DSL            2421\n",
      "None           1526\n",
      "Name: internet_service_type, dtype: int64 \n",
      " \n",
      "\n",
      "Fiber optic    0.439585\n",
      "DSL            0.343746\n",
      "None           0.216669\n",
      "Name: internet_service_type, dtype: float64\n",
      "Electronic check             2365\n",
      "Mailed check                 1612\n",
      "Bank transfer (automatic)    1544\n",
      "Credit card (automatic)      1522\n",
      "Name: payment_type, dtype: int64 \n",
      " \n",
      "\n",
      "Electronic check             0.335794\n",
      "Mailed check                 0.228880\n",
      "Bank transfer (automatic)    0.219225\n",
      "Credit card (automatic)      0.216101\n",
      "Name: payment_type, dtype: float64\n"
     ]
    }
   ],
   "source": [
    "#Describing the object columns\n",
    "# describe object columns\n",
    "obj_cols = telco.columns[[telco[col].dtype == 'O' for col in telco.columns]]\n",
    "for col in obj_cols:\n",
    "    print(telco[col].value_counts(),'\\n', '\\n')\n",
    "    print(telco[col].value_counts(normalize=True, dropna=False))"
   ]
  },
  {
   "cell_type": "code",
   "execution_count": 19,
   "metadata": {},
   "outputs": [
    {
     "data": {
      "text/plain": [
       "(18.148999999999997, 38.35]    1797\n",
       "(38.35, 58.45]                 1005\n",
       "(58.45, 78.55]                 1367\n",
       "(78.55, 98.65]                 1826\n",
       "(98.65, 118.75]                1048\n",
       "Name: monthly_charges, dtype: int64"
      ]
     },
     "execution_count": 19,
     "metadata": {},
     "output_type": "execute_result"
    }
   ],
   "source": [
    "# sort = false will sort the bin values as opposed to the frequency counts\n",
    "# value counts of monthly_charges by binning\n",
    "telco.monthly_charges.value_counts(bins=5, sort=False)"
   ]
  },
  {
   "cell_type": "code",
   "execution_count": 21,
   "metadata": {},
   "outputs": [
    {
     "data": {
      "text/plain": [
       "Series([], dtype: int64)"
      ]
     },
     "execution_count": 21,
     "metadata": {},
     "output_type": "execute_result"
    }
   ],
   "source": [
    "# Checking the dataframe for null values\n",
    "missing = telco.isnull().sum()\n",
    "missing[missing > 0]"
   ]
  },
  {
   "cell_type": "code",
   "execution_count": null,
   "metadata": {},
   "outputs": [],
   "source": []
  }
 ],
 "metadata": {
  "kernelspec": {
   "display_name": "Python 3",
   "language": "python",
   "name": "python3"
  },
  "language_info": {
   "codemirror_mode": {
    "name": "ipython",
    "version": 3
   },
   "file_extension": ".py",
   "mimetype": "text/x-python",
   "name": "python",
   "nbconvert_exporter": "python",
   "pygments_lexer": "ipython3",
   "version": "3.7.6"
  }
 },
 "nbformat": 4,
 "nbformat_minor": 4
}
