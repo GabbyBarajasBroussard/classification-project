{
 "cells": [
  {
   "cell_type": "markdown",
   "metadata": {
    "slideshow": {
     "slide_type": "slide"
    }
   },
   "source": [
    "The goal for this project is to create a model predicting churn using the data obtained from the Telco databas by identifying what conditions and attributes are the largest drivers of churn. The deliverables from this project are acquire.py, prepare.py, telco.csv and final_presentation.ipynb."
   ]
  },
  {
   "cell_type": "code",
   "execution_count": 1,
   "metadata": {
    "slideshow": {
     "slide_type": "slide"
    }
   },
   "outputs": [],
   "source": [
    "# Preparing the notebook by importing necessary modules\n",
    "from scipy import stats\n",
    "from math import sqrt\n",
    "from sklearn.model_selection import train_test_split\n",
    "from sklearn.linear_model import LogisticRegression\n",
    "from sklearn.tree import DecisionTreeClassifier\n",
    "from sklearn.ensemble import RandomForestClassifier\n",
    "from sklearn.metrics import classification_report\n",
    "from sklearn.metrics import confusion_matrix\n",
    "from sklearn.neighbors import KNeighborsClassifier"
   ]
  },
  {
   "cell_type": "code",
   "execution_count": 2,
   "metadata": {
    "slideshow": {
     "slide_type": "subslide"
    }
   },
   "outputs": [],
   "source": [
    "import pandas as pd\n",
    "import numpy as np\n",
    "import seaborn as sns\n",
    "import matplotlib.pyplot as plt\n",
    "%matplotlib inline"
   ]
  },
  {
   "cell_type": "code",
   "execution_count": 3,
   "metadata": {
    "slideshow": {
     "slide_type": "subslide"
    }
   },
   "outputs": [],
   "source": [
    "import warnings\n",
    "warnings.filterwarnings(\"ignore\")"
   ]
  },
  {
   "cell_type": "markdown",
   "metadata": {
    "slideshow": {
     "slide_type": "slide"
    }
   },
   "source": [
    "# Acquire "
   ]
  },
  {
   "cell_type": "code",
   "execution_count": 4,
   "metadata": {
    "slideshow": {
     "slide_type": "subslide"
    }
   },
   "outputs": [],
   "source": [
    "import acquire"
   ]
  },
  {
   "cell_type": "code",
   "execution_count": 5,
   "metadata": {
    "slideshow": {
     "slide_type": "slide"
    }
   },
   "outputs": [],
   "source": [
    "# Loading the acquired data into a data frame called acquired. This is my raw data from the Codeup Student Database.\n",
    "acquired= acquire.get_telco_data()"
   ]
  },
  {
   "cell_type": "code",
   "execution_count": 6,
   "metadata": {
    "slideshow": {
     "slide_type": "slide"
    }
   },
   "outputs": [
    {
     "name": "stdout",
     "output_type": "stream",
     "text": [
      "<class 'pandas.core.frame.DataFrame'>\n",
      "RangeIndex: 7043 entries, 0 to 7042\n",
      "Data columns (total 25 columns):\n",
      " #   Column                    Non-Null Count  Dtype  \n",
      "---  ------                    --------------  -----  \n",
      " 0   Unnamed: 0                7043 non-null   int64  \n",
      " 1   payment_type_id           7043 non-null   int64  \n",
      " 2   internet_service_type_id  7043 non-null   int64  \n",
      " 3   contract_type_id          7043 non-null   int64  \n",
      " 4   customer_id               7043 non-null   object \n",
      " 5   gender                    7043 non-null   object \n",
      " 6   senior_citizen            7043 non-null   int64  \n",
      " 7   partner                   7043 non-null   object \n",
      " 8   dependents                7043 non-null   object \n",
      " 9   tenure                    7043 non-null   int64  \n",
      " 10  phone_service             7043 non-null   object \n",
      " 11  multiple_lines            7043 non-null   object \n",
      " 12  online_security           7043 non-null   object \n",
      " 13  online_backup             7043 non-null   object \n",
      " 14  device_protection         7043 non-null   object \n",
      " 15  tech_support              7043 non-null   object \n",
      " 16  streaming_tv              7043 non-null   object \n",
      " 17  streaming_movies          7043 non-null   object \n",
      " 18  paperless_billing         7043 non-null   object \n",
      " 19  monthly_charges           7043 non-null   float64\n",
      " 20  total_charges             7043 non-null   object \n",
      " 21  churn                     7043 non-null   object \n",
      " 22  contract_type             7043 non-null   object \n",
      " 23  internet_service_type     7043 non-null   object \n",
      " 24  payment_type              7043 non-null   object \n",
      "dtypes: float64(1), int64(6), object(18)\n",
      "memory usage: 1.3+ MB\n"
     ]
    }
   ],
   "source": [
    "#Visualizing the column names, amount of nulls, amount of entries per column and column data types\n",
    "acquired.info()"
   ]
  },
  {
   "cell_type": "markdown",
   "metadata": {
    "slideshow": {
     "slide_type": "slide"
    }
   },
   "source": [
    "#### Using .info, we are able to visualize that there are 7043 clients with telco.  The data types that make up the dataframe consist of integers, objects, and floats."
   ]
  },
  {
   "cell_type": "markdown",
   "metadata": {
    "slideshow": {
     "slide_type": "slide"
    }
   },
   "source": [
    "#### Visualizing the basic statistical details such as percentile, mean, std etc. of the numerical values in a data frame"
   ]
  },
  {
   "cell_type": "code",
   "execution_count": 7,
   "metadata": {
    "slideshow": {
     "slide_type": "slide"
    }
   },
   "outputs": [],
   "source": [
    "# Dropping the Unnamed column before proceeding due to it being a int64 column\n",
    "acquired= acquired.drop(columns=['Unnamed: 0'])"
   ]
  },
  {
   "cell_type": "code",
   "execution_count": 8,
   "metadata": {
    "slideshow": {
     "slide_type": "slide"
    }
   },
   "outputs": [
    {
     "data": {
      "text/html": [
       "<div>\n",
       "<style scoped>\n",
       "    .dataframe tbody tr th:only-of-type {\n",
       "        vertical-align: middle;\n",
       "    }\n",
       "\n",
       "    .dataframe tbody tr th {\n",
       "        vertical-align: top;\n",
       "    }\n",
       "\n",
       "    .dataframe thead th {\n",
       "        text-align: right;\n",
       "    }\n",
       "</style>\n",
       "<table border=\"1\" class=\"dataframe\">\n",
       "  <thead>\n",
       "    <tr style=\"text-align: right;\">\n",
       "      <th></th>\n",
       "      <th>payment_type_id</th>\n",
       "      <th>internet_service_type_id</th>\n",
       "      <th>contract_type_id</th>\n",
       "      <th>senior_citizen</th>\n",
       "      <th>tenure</th>\n",
       "      <th>monthly_charges</th>\n",
       "    </tr>\n",
       "  </thead>\n",
       "  <tbody>\n",
       "    <tr>\n",
       "      <th>count</th>\n",
       "      <td>7043.000000</td>\n",
       "      <td>7043.000000</td>\n",
       "      <td>7043.000000</td>\n",
       "      <td>7043.000000</td>\n",
       "      <td>7043.000000</td>\n",
       "      <td>7043.000000</td>\n",
       "    </tr>\n",
       "    <tr>\n",
       "      <th>mean</th>\n",
       "      <td>2.315633</td>\n",
       "      <td>1.872923</td>\n",
       "      <td>1.690473</td>\n",
       "      <td>0.162147</td>\n",
       "      <td>32.371149</td>\n",
       "      <td>64.761692</td>\n",
       "    </tr>\n",
       "    <tr>\n",
       "      <th>std</th>\n",
       "      <td>1.148907</td>\n",
       "      <td>0.737796</td>\n",
       "      <td>0.833755</td>\n",
       "      <td>0.368612</td>\n",
       "      <td>24.559481</td>\n",
       "      <td>30.090047</td>\n",
       "    </tr>\n",
       "    <tr>\n",
       "      <th>min</th>\n",
       "      <td>1.000000</td>\n",
       "      <td>1.000000</td>\n",
       "      <td>1.000000</td>\n",
       "      <td>0.000000</td>\n",
       "      <td>0.000000</td>\n",
       "      <td>18.250000</td>\n",
       "    </tr>\n",
       "    <tr>\n",
       "      <th>25%</th>\n",
       "      <td>1.000000</td>\n",
       "      <td>1.000000</td>\n",
       "      <td>1.000000</td>\n",
       "      <td>0.000000</td>\n",
       "      <td>9.000000</td>\n",
       "      <td>35.500000</td>\n",
       "    </tr>\n",
       "    <tr>\n",
       "      <th>50%</th>\n",
       "      <td>2.000000</td>\n",
       "      <td>2.000000</td>\n",
       "      <td>1.000000</td>\n",
       "      <td>0.000000</td>\n",
       "      <td>29.000000</td>\n",
       "      <td>70.350000</td>\n",
       "    </tr>\n",
       "    <tr>\n",
       "      <th>75%</th>\n",
       "      <td>3.000000</td>\n",
       "      <td>2.000000</td>\n",
       "      <td>2.000000</td>\n",
       "      <td>0.000000</td>\n",
       "      <td>55.000000</td>\n",
       "      <td>89.850000</td>\n",
       "    </tr>\n",
       "    <tr>\n",
       "      <th>max</th>\n",
       "      <td>4.000000</td>\n",
       "      <td>3.000000</td>\n",
       "      <td>3.000000</td>\n",
       "      <td>1.000000</td>\n",
       "      <td>72.000000</td>\n",
       "      <td>118.750000</td>\n",
       "    </tr>\n",
       "  </tbody>\n",
       "</table>\n",
       "</div>"
      ],
      "text/plain": [
       "       payment_type_id  internet_service_type_id  contract_type_id  \\\n",
       "count      7043.000000               7043.000000       7043.000000   \n",
       "mean          2.315633                  1.872923          1.690473   \n",
       "std           1.148907                  0.737796          0.833755   \n",
       "min           1.000000                  1.000000          1.000000   \n",
       "25%           1.000000                  1.000000          1.000000   \n",
       "50%           2.000000                  2.000000          1.000000   \n",
       "75%           3.000000                  2.000000          2.000000   \n",
       "max           4.000000                  3.000000          3.000000   \n",
       "\n",
       "       senior_citizen       tenure  monthly_charges  \n",
       "count     7043.000000  7043.000000      7043.000000  \n",
       "mean         0.162147    32.371149        64.761692  \n",
       "std          0.368612    24.559481        30.090047  \n",
       "min          0.000000     0.000000        18.250000  \n",
       "25%          0.000000     9.000000        35.500000  \n",
       "50%          0.000000    29.000000        70.350000  \n",
       "75%          0.000000    55.000000        89.850000  \n",
       "max          1.000000    72.000000       118.750000  "
      ]
     },
     "execution_count": 8,
     "metadata": {},
     "output_type": "execute_result"
    }
   ],
   "source": [
    "acquired.describe()"
   ]
  },
  {
   "cell_type": "markdown",
   "metadata": {
    "slideshow": {
     "slide_type": "slide"
    }
   },
   "source": [
    "#### Plotting the distributions of the numerical columns"
   ]
  },
  {
   "cell_type": "code",
   "execution_count": 9,
   "metadata": {
    "slideshow": {
     "slide_type": "slide"
    }
   },
   "outputs": [
    {
     "data": {
      "text/plain": [
       "Text(0, 0.5, 'Count of Clients in each Tenure')"
      ]
     },
     "execution_count": 9,
     "metadata": {},
     "output_type": "execute_result"
    },
    {
     "data": {
      "image/png": "[encoded data removed]",
      "text/plain": [
       "<Figure size 1440x720 with 5 Axes>"
      ]
     },
     "metadata": {
      "needs_background": "light"
     },
     "output_type": "display_data"
    }
   ],
   "source": [
    "plt.figure(figsize=(20, 10))\n",
    "\n",
    "plt.suptitle(\"Plotting the distributions of the numerical columns\")\n",
    "# row, columns, index\n",
    "plt.subplot(2, 3, 1)\n",
    "plt.hist(acquired.payment_type_id, align='left', edgecolor='darkblue', alpha=0.5, color='cornflowerblue')\n",
    "plt.title('Payment Type ID')\n",
    "plt.xlabel(\"Payment Type\")\n",
    "plt.ylabel(\"Count of Payment Type\")\n",
    "plt.xlim([0, 5])\n",
    "plt.xticks(np.arange(0, 5, 1))\n",
    "\n",
    "plt.subplot(2, 3, 2)\n",
    "plt.hist(acquired.internet_service_type_id, align='left', edgecolor='darkblue', alpha=0.5, color='cornflowerblue')\n",
    "plt.title('Internet Service Type ID')\n",
    "plt.xlabel(\"Internet Type\")\n",
    "plt.ylabel(\"Count of Internet Type\")\n",
    "plt.xlim([0, 4])\n",
    "plt.xticks(np.arange(0, 4, 1))\n",
    "\n",
    "plt.subplot(2, 3, 3)\n",
    "plt.hist(acquired.contract_type_id, align='left', edgecolor='darkblue', alpha=0.5, color='cornflowerblue')\n",
    "plt.title('Contract Service Type ID')\n",
    "plt.xlabel(\"Contract Type\")\n",
    "plt.ylabel(\"Count of each Contract Type\")\n",
    "plt.xlim([0, 4])\n",
    "plt.xticks(np.arange(0, 4, 1))\n",
    "\n",
    "plt.subplot(2, 3, 4)\n",
    "plt.hist(acquired.senior_citizen, align='left', edgecolor='darkblue', alpha=0.5, color='cornflowerblue')\n",
    "plt.title('Senior Citizen')\n",
    "plt.xlabel(\"Yes or No Senior Citizen\")\n",
    "plt.ylabel(\"Number of Senior Citizen\")\n",
    "plt.xlim([0, 2])\n",
    "plt.xticks(np.arange(-1, 2, 1))\n",
    "\n",
    "plt.subplot(2, 3, 5)\n",
    "plt.hist(acquired.tenure, align='left', edgecolor='darkblue', alpha=0.5, color='cornflowerblue')\n",
    "plt.title('Tenure')\n",
    "plt.xlabel(\"Amount of Tenure\")\n",
    "plt.ylabel(\"Count of Clients in each Tenure\")"
   ]
  },
  {
   "cell_type": "markdown",
   "metadata": {
    "slideshow": {
     "slide_type": "slide"
    }
   },
   "source": [
    "# Prepare "
   ]
  },
  {
   "cell_type": "code",
   "execution_count": 10,
   "metadata": {
    "slideshow": {
     "slide_type": "subslide"
    }
   },
   "outputs": [
    {
     "name": "stdout",
     "output_type": "stream",
     "text": [
      "<class 'pandas.core.frame.DataFrame'>\n",
      "RangeIndex: 7043 entries, 0 to 7042\n",
      "Data columns (total 25 columns):\n",
      " #   Column                    Non-Null Count  Dtype  \n",
      "---  ------                    --------------  -----  \n",
      " 0   Unnamed: 0                7043 non-null   int64  \n",
      " 1   payment_type_id           7043 non-null   int64  \n",
      " 2   internet_service_type_id  7043 non-null   int64  \n",
      " 3   contract_type_id          7043 non-null   int64  \n",
      " 4   customer_id               7043 non-null   object \n",
      " 5   gender                    7043 non-null   object \n",
      " 6   senior_citizen            7043 non-null   int64  \n",
      " 7   partner                   7043 non-null   object \n",
      " 8   dependents                7043 non-null   object \n",
      " 9   tenure                    7043 non-null   int64  \n",
      " 10  phone_service             7043 non-null   object \n",
      " 11  multiple_lines            7043 non-null   object \n",
      " 12  online_security           7043 non-null   object \n",
      " 13  online_backup             7043 non-null   object \n",
      " 14  device_protection         7043 non-null   object \n",
      " 15  tech_support              7043 non-null   object \n",
      " 16  streaming_tv              7043 non-null   object \n",
      " 17  streaming_movies          7043 non-null   object \n",
      " 18  paperless_billing         7043 non-null   object \n",
      " 19  monthly_charges           7043 non-null   float64\n",
      " 20  total_charges             7043 non-null   object \n",
      " 21  churn                     7043 non-null   object \n",
      " 22  contract_type             7043 non-null   object \n",
      " 23  internet_service_type     7043 non-null   object \n",
      " 24  payment_type              7043 non-null   object \n",
      "dtypes: float64(1), int64(6), object(18)\n",
      "memory usage: 1.3+ MB\n",
      "<class 'pandas.core.frame.DataFrame'>\n",
      "RangeIndex: 7043 entries, 0 to 7042\n",
      "Data columns (total 16 columns):\n",
      " #   Column                 Non-Null Count  Dtype  \n",
      "---  ------                 --------------  -----  \n",
      " 0   gender                 7043 non-null   object \n",
      " 1   multiple_lines         7043 non-null   object \n",
      " 2   monthly_charges        7043 non-null   float64\n",
      " 3   total_charges          7043 non-null   object \n",
      " 4   contract_type          7043 non-null   object \n",
      " 5   internet_service_type  7043 non-null   object \n",
      " 6   payment_type           7043 non-null   object \n",
      " 7   years_tenure           7043 non-null   float64\n",
      " 8   is_family              7043 non-null   bool   \n",
      " 9   is_senior              7043 non-null   bool   \n",
      " 10  has_phones             7043 non-null   bool   \n",
      " 11  has_paperless_billing  7043 non-null   bool   \n",
      " 12  has_streaming          7043 non-null   bool   \n",
      " 13  has_support_features   7043 non-null   bool   \n",
      " 14  has_security_features  7043 non-null   bool   \n",
      " 15  is_churn               7043 non-null   uint8  \n",
      "dtypes: bool(7), float64(2), object(6), uint8(1)\n",
      "memory usage: 495.3+ KB\n"
     ]
    }
   ],
   "source": [
    "import prepare"
   ]
  },
  {
   "cell_type": "code",
   "execution_count": 11,
   "metadata": {
    "slideshow": {
     "slide_type": "slide"
    }
   },
   "outputs": [],
   "source": [
    "# importing the cleaned telco data\n",
    "telco = prepare.clean_telco()"
   ]
  },
  {
   "cell_type": "code",
   "execution_count": 12,
   "metadata": {
    "slideshow": {
     "slide_type": "slide"
    }
   },
   "outputs": [
    {
     "name": "stdout",
     "output_type": "stream",
     "text": [
      "<class 'pandas.core.frame.DataFrame'>\n",
      "Int64Index: 7043 entries, 0 to 7042\n",
      "Data columns (total 17 columns):\n",
      " #   Column                 Non-Null Count  Dtype  \n",
      "---  ------                 --------------  -----  \n",
      " 0   gender                 7043 non-null   object \n",
      " 1   multiple_lines         7043 non-null   object \n",
      " 2   monthly_charges        7043 non-null   float64\n",
      " 3   total_charges          7043 non-null   object \n",
      " 4   contract_type          7043 non-null   object \n",
      " 5   internet_service_type  7043 non-null   object \n",
      " 6   payment_type           7043 non-null   object \n",
      " 7   monthly_tenure         7043 non-null   float64\n",
      " 8   is_family              7043 non-null   bool   \n",
      " 9   is_couple              7043 non-null   bool   \n",
      " 10  is_senior              7043 non-null   bool   \n",
      " 11  has_phones             7043 non-null   bool   \n",
      " 12  has_paperless_billing  7043 non-null   bool   \n",
      " 13  has_streaming          7043 non-null   bool   \n",
      " 14  has_support_features   7043 non-null   bool   \n",
      " 15  has_security_features  7043 non-null   bool   \n",
      " 16  is_churn               7043 non-null   uint8  \n",
      "dtypes: bool(8), float64(2), object(6), uint8(1)\n",
      "memory usage: 557.1+ KB\n"
     ]
    }
   ],
   "source": [
    "# visualizing the cleaned telco data\n",
    "telco.info()"
   ]
  },
  {
   "cell_type": "code",
   "execution_count": 13,
   "metadata": {
    "slideshow": {
     "slide_type": "slide"
    }
   },
   "outputs": [
    {
     "name": "stdout",
     "output_type": "stream",
     "text": [
      "Male      3555\n",
      "Female    3488\n",
      "Name: gender, dtype: int64 \n",
      " \n",
      "\n",
      "Male      0.504756\n",
      "Female    0.495244\n",
      "Name: gender, dtype: float64\n",
      "No                  3390\n",
      "Yes                 2971\n",
      "No phone service     682\n",
      "Name: multiple_lines, dtype: int64 \n",
      " \n",
      "\n",
      "No                  0.481329\n",
      "Yes                 0.421837\n",
      "No phone service    0.096834\n",
      "Name: multiple_lines, dtype: float64\n",
      "20.2       11\n",
      "           11\n",
      "19.75       9\n",
      "20.05       8\n",
      "19.9        8\n",
      "           ..\n",
      "5060.9      1\n",
      "605.45      1\n",
      "6743.55     1\n",
      "662.95      1\n",
      "1912.15     1\n",
      "Name: total_charges, Length: 6531, dtype: int64 \n",
      " \n",
      "\n",
      "20.2       0.001562\n",
      "           0.001562\n",
      "19.75      0.001278\n",
      "20.05      0.001136\n",
      "19.9       0.001136\n",
      "             ...   \n",
      "5060.9     0.000142\n",
      "605.45     0.000142\n",
      "6743.55    0.000142\n",
      "662.95     0.000142\n",
      "1912.15    0.000142\n",
      "Name: total_charges, Length: 6531, dtype: float64\n",
      "Month-to-month    3875\n",
      "Two year          1695\n",
      "One year          1473\n",
      "Name: contract_type, dtype: int64 \n",
      " \n",
      "\n",
      "Month-to-month    0.550192\n",
      "Two year          0.240664\n",
      "One year          0.209144\n",
      "Name: contract_type, dtype: float64\n",
      "Fiber optic    3096\n",
      "DSL            2421\n",
      "None           1526\n",
      "Name: internet_service_type, dtype: int64 \n",
      " \n",
      "\n",
      "Fiber optic    0.439585\n",
      "DSL            0.343746\n",
      "None           0.216669\n",
      "Name: internet_service_type, dtype: float64\n",
      "Electronic check             2365\n",
      "Mailed check                 1612\n",
      "Bank transfer (automatic)    1544\n",
      "Credit card (automatic)      1522\n",
      "Name: payment_type, dtype: int64 \n",
      " \n",
      "\n",
      "Electronic check             0.335794\n",
      "Mailed check                 0.228880\n",
      "Bank transfer (automatic)    0.219225\n",
      "Credit card (automatic)      0.216101\n",
      "Name: payment_type, dtype: float64\n"
     ]
    }
   ],
   "source": [
    "#Describing the object columns\n",
    "# describe object columns\n",
    "obj_cols = telco.columns[[telco[col].dtype == 'O' for col in telco.columns]]\n",
    "for col in obj_cols:\n",
    "    print(telco[col].value_counts(),'\\n', '\\n')\n",
    "    print(telco[col].value_counts(normalize=True, dropna=False))"
   ]
  },
  {
   "cell_type": "code",
   "execution_count": 14,
   "metadata": {
    "slideshow": {
     "slide_type": "slide"
    }
   },
   "outputs": [
    {
     "data": {
      "text/plain": [
       "(18.148999999999997, 38.35]    1797\n",
       "(38.35, 58.45]                 1005\n",
       "(58.45, 78.55]                 1367\n",
       "(78.55, 98.65]                 1826\n",
       "(98.65, 118.75]                1048\n",
       "Name: monthly_charges, dtype: int64"
      ]
     },
     "execution_count": 14,
     "metadata": {},
     "output_type": "execute_result"
    }
   ],
   "source": [
    "# sort = false will sort the bin values as opposed to the frequency counts\n",
    "# value counts of monthly_charges by binning\n",
    "telco.monthly_charges.value_counts(bins=5, sort=False)"
   ]
  },
  {
   "cell_type": "code",
   "execution_count": 15,
   "metadata": {
    "slideshow": {
     "slide_type": "slide"
    }
   },
   "outputs": [
    {
     "data": {
      "text/plain": [
       "Series([], dtype: int64)"
      ]
     },
     "execution_count": 15,
     "metadata": {},
     "output_type": "execute_result"
    }
   ],
   "source": [
    "# Checking the dataframe for null values\n",
    "missing = telco.isnull().sum()\n",
    "missing[missing > 0]"
   ]
  },
  {
   "cell_type": "markdown",
   "metadata": {
    "slideshow": {
     "slide_type": "slide"
    }
   },
   "source": [
    "### Findings:\n",
    "<ul>\n",
    "<li> Initial findings are that tere are no nulls in the dataframe. Also, about 60% of clients pay over $58.45 for their services.\n",
    "<li> The the data was cleaned by making columns into booleans instead of string object columns. A dummy variable for churn and the single variable object columns were then concatenated into the data frame.\n",
    "<li> The data was further cleaned by getting rid of the id columns from the sql join statements and the duplicated non simplified columns were dropped as well.\n",
    "<li> All names of columns were made into python friendly names in order to make calling them more streamlined later.\n",
    "<li> Finally all data was split into train, validate and test. The parameters used were: test_size=.2, random_state=123, stratify=df.is_churn.\n",
    "\n",
    "\n"
   ]
  },
  {
   "cell_type": "markdown",
   "metadata": {
    "slideshow": {
     "slide_type": "slide"
    }
   },
   "source": [
    "## Hypothesis Testing\n",
    "### First Hypothesis\n",
    "$H_0$: A clients length of monthly tenure has no effect on churn rate. <br> \n",
    "\n",
    "$H_a$: Clients with a lower monthly tenure churn at a higher rate than those with a longer tenure. <br> \n",
    "\n",
    "alpha ($\\alpha$): 1 - confidence level (95% confidence level -> $\\alpha = .05$)"
   ]
  },
  {
   "cell_type": "code",
   "execution_count": 16,
   "metadata": {
    "slideshow": {
     "slide_type": "slide"
    }
   },
   "outputs": [],
   "source": [
    "n = telco.shape[0]     # number of observations\n",
    "degf = n - 2        # degrees of freedom: the # of values in the final calculation of a statistic that are free to vary.\n",
    "conf_interval = .95 # desired confidence interval\n",
    "α = 1 - conf_interval\n",
    "null_hypothesis = \"a clients length of monthly tenure has no effect on churn rate.\""
   ]
  },
  {
   "cell_type": "code",
   "execution_count": 17,
   "metadata": {
    "scrolled": true,
    "slideshow": {
     "slide_type": "subslide"
    }
   },
   "outputs": [
    {
     "data": {
      "text/plain": [
       "(-0.352228670113078, 7.999057960599509e-205)"
      ]
     },
     "execution_count": 17,
     "metadata": {},
     "output_type": "execute_result"
    }
   ],
   "source": [
    "r, p = stats.pearsonr(telco.monthly_tenure, telco.is_churn)\n",
    "r, p"
   ]
  },
  {
   "cell_type": "code",
   "execution_count": 18,
   "metadata": {
    "slideshow": {
     "slide_type": "subslide"
    }
   },
   "outputs": [
    {
     "data": {
      "text/plain": [
       "False"
      ]
     },
     "execution_count": 18,
     "metadata": {},
     "output_type": "execute_result"
    }
   ],
   "source": [
    "#Comparing my p value against my α\n",
    "p > α"
   ]
  },
  {
   "cell_type": "code",
   "execution_count": 19,
   "metadata": {
    "slideshow": {
     "slide_type": "slide"
    }
   },
   "outputs": [
    {
     "name": "stdout",
     "output_type": "stream",
     "text": [
      "We reject the null hypothesis that a clients length of monthly tenure has no effect on churn rate.\n"
     ]
    }
   ],
   "source": [
    "if p > α:\n",
    "    print(\"We fail to reject the null hypothesis. The null hypothesis is that\", null_hypothesis)\n",
    "else:\n",
    "    print(\"We reject the null hypothesis that\", null_hypothesis)"
   ]
  },
  {
   "cell_type": "markdown",
   "metadata": {
    "slideshow": {
     "slide_type": "slide"
    }
   },
   "source": [
    "### Second Hypothesis\n",
    "$H_0$: Whether a client has a family or has only a partner has no correlation with churn. <br>\n",
    "$H_a$: Clients with a family are correlated with a higher rate of churn than those with only a partner."
   ]
  },
  {
   "cell_type": "code",
   "execution_count": 20,
   "metadata": {
    "slideshow": {
     "slide_type": "slide"
    }
   },
   "outputs": [
    {
     "data": {
      "text/plain": [
       "-3.959384698396423"
      ]
     },
     "execution_count": 20,
     "metadata": {},
     "output_type": "execute_result"
    }
   ],
   "source": [
    "x1 = telco[telco.is_family == True].is_churn\n",
    "x2 = telco[telco.is_couple == True].is_churn\n",
    "\n",
    "xbar1 = x1.mean()\n",
    "xbar2 = x2.mean()\n",
    "\n",
    "n1 = x1.shape[0]\n",
    "n2 = x2.shape[0]\n",
    "\n",
    "s1 = x1.std()\n",
    "s2 = x2.std()\n",
    "\n",
    "degf = n1 + n2 - 2\n",
    "\n",
    "s_p = sqrt(((n1 - 1) * s1**2 + (n2 - 1) * s2**2) / (n1 + n2 - 2))\n",
    "s_p\n",
    "\n",
    "standard_error = se = sqrt(s1**2 / n1 + s2**2 / n2)\n",
    "\n",
    "t = (xbar1 - xbar2) / (s_p * sqrt(1/n1 + 1/n2))\n",
    "t"
   ]
  },
  {
   "cell_type": "code",
   "execution_count": 21,
   "metadata": {
    "slideshow": {
     "slide_type": "subslide"
    }
   },
   "outputs": [
    {
     "name": "stdout",
     "output_type": "stream",
     "text": [
      "t = -3.95938\n",
      "p = 1.99992\n"
     ]
    },
    {
     "data": {
      "text/plain": [
       "Ttest_indResult(statistic=-3.959384698396423, pvalue=7.608984832866785e-05)"
      ]
     },
     "execution_count": 21,
     "metadata": {},
     "output_type": "execute_result"
    }
   ],
   "source": [
    "p = stats.t(degf).sf(t) * 2\n",
    "\n",
    "print(f't = {t:.5f}')\n",
    "print(f'p = {p:.5f}')\n",
    "stats.ttest_ind(x1, x2)"
   ]
  },
  {
   "cell_type": "code",
   "execution_count": 22,
   "metadata": {
    "slideshow": {
     "slide_type": "slide"
    }
   },
   "outputs": [
    {
     "name": "stdout",
     "output_type": "stream",
     "text": [
      "We fail to reject the null hypothesis. The null hypothesis is that whether a client has a family or has only a partner has no correlation with churn\n"
     ]
    }
   ],
   "source": [
    "null_hypothesis = \"whether a client has a family or has only a partner has no correlation with churn\"\n",
    "\n",
    "if p > α:\n",
    "    print(\"We fail to reject the null hypothesis. The null hypothesis is that\", null_hypothesis)\n",
    "elif t < 0 :\n",
    "    print(\"We fail to reject the null hypothesis. The null hypothesis is that\", null_hypothesis)\n",
    "else:\n",
    "    print(\"We reject the null hypothesis that\", null_hypothesis)"
   ]
  },
  {
   "cell_type": "markdown",
   "metadata": {
    "slideshow": {
     "slide_type": "slide"
    }
   },
   "source": [
    "### Third Hypothesis"
   ]
  },
  {
   "cell_type": "markdown",
   "metadata": {
    "slideshow": {
     "slide_type": "subslide"
    }
   },
   "source": [
    "$H_0$: A client having a family has no correlation with monthly charges. <br>\n",
    "$H_a$: Clients with a family are correlated with a higher rate of monthly charges."
   ]
  },
  {
   "cell_type": "code",
   "execution_count": 23,
   "metadata": {
    "slideshow": {
     "slide_type": "slide"
    }
   },
   "outputs": [
    {
     "data": {
      "text/plain": [
       "-7.688925356560659"
      ]
     },
     "execution_count": 23,
     "metadata": {},
     "output_type": "execute_result"
    }
   ],
   "source": [
    "families = telco[telco.is_family == True]\n",
    "\n",
    "μ = telco.monthly_charges.mean()\n",
    "xbar = families.monthly_charges.mean()\n",
    "s = families.monthly_charges.std()\n",
    "n = families.shape[0]\n",
    "degf = n - 1\n",
    "standard_error = s / sqrt(n)\n",
    "\n",
    "t = (xbar - μ) / (s / sqrt(n))\n",
    "t"
   ]
  },
  {
   "cell_type": "code",
   "execution_count": 24,
   "metadata": {
    "slideshow": {
     "slide_type": "subslide"
    }
   },
   "outputs": [
    {
     "name": "stdout",
     "output_type": "stream",
     "text": [
      "We fail to reject the null hypothesis. The null hypothesis is that a client having a family has no correlation with monthly charges.\n"
     ]
    }
   ],
   "source": [
    "null_hypothesis = \"a client having a family has no correlation with monthly charges.\"\n",
    "\n",
    "if p >  α:\n",
    "    print(\"We fail to reject the null hypothesis. The null hypothesis is that\", null_hypothesis)\n",
    "elif t < 0 :\n",
    "    print(\"We fail to reject the null hypothesis. The null hypothesis is that\", null_hypothesis)\n",
    "else:\n",
    "    print(\"We reject the null hypothesis that\", null_hypothesis)"
   ]
  },
  {
   "cell_type": "markdown",
   "metadata": {
    "slideshow": {
     "slide_type": "slide"
    }
   },
   "source": [
    "## Data Exploration & Analysis"
   ]
  },
  {
   "cell_type": "code",
   "execution_count": 25,
   "metadata": {
    "slideshow": {
     "slide_type": "subslide"
    }
   },
   "outputs": [],
   "source": [
    "np.random.seed(123)"
   ]
  },
  {
   "cell_type": "code",
   "execution_count": 27,
   "metadata": {
    "slideshow": {
     "slide_type": "slide"
    }
   },
   "outputs": [],
   "source": [
    "train, validate, test = prepare.prep_telco_data()"
   ]
  },
  {
   "cell_type": "code",
   "execution_count": 28,
   "metadata": {
    "slideshow": {
     "slide_type": "slide"
    }
   },
   "outputs": [
    {
     "data": {
      "text/html": [
       "<div>\n",
       "<style scoped>\n",
       "    .dataframe tbody tr th:only-of-type {\n",
       "        vertical-align: middle;\n",
       "    }\n",
       "\n",
       "    .dataframe tbody tr th {\n",
       "        vertical-align: top;\n",
       "    }\n",
       "\n",
       "    .dataframe thead th {\n",
       "        text-align: right;\n",
       "    }\n",
       "</style>\n",
       "<table border=\"1\" class=\"dataframe\">\n",
       "  <thead>\n",
       "    <tr style=\"text-align: right;\">\n",
       "      <th></th>\n",
       "      <th>gender</th>\n",
       "      <th>multiple_lines</th>\n",
       "      <th>monthly_charges</th>\n",
       "      <th>total_charges</th>\n",
       "      <th>contract_type</th>\n",
       "      <th>internet_service_type</th>\n",
       "      <th>payment_type</th>\n",
       "      <th>monthly_tenure</th>\n",
       "      <th>is_family</th>\n",
       "      <th>is_couple</th>\n",
       "      <th>is_senior</th>\n",
       "      <th>has_phones</th>\n",
       "      <th>has_paperless_billing</th>\n",
       "      <th>has_streaming</th>\n",
       "      <th>has_support_features</th>\n",
       "      <th>has_security_features</th>\n",
       "      <th>is_churn</th>\n",
       "    </tr>\n",
       "  </thead>\n",
       "  <tbody>\n",
       "    <tr>\n",
       "      <th>5670</th>\n",
       "      <td>Male</td>\n",
       "      <td>No</td>\n",
       "      <td>20.35</td>\n",
       "      <td>122</td>\n",
       "      <td>Month-to-month</td>\n",
       "      <td>None</td>\n",
       "      <td>Credit card (automatic)</td>\n",
       "      <td>0.416667</td>\n",
       "      <td>True</td>\n",
       "      <td>False</td>\n",
       "      <td>False</td>\n",
       "      <td>True</td>\n",
       "      <td>False</td>\n",
       "      <td>False</td>\n",
       "      <td>False</td>\n",
       "      <td>False</td>\n",
       "      <td>0</td>\n",
       "    </tr>\n",
       "    <tr>\n",
       "      <th>4152</th>\n",
       "      <td>Female</td>\n",
       "      <td>No</td>\n",
       "      <td>89.25</td>\n",
       "      <td>487.05</td>\n",
       "      <td>Month-to-month</td>\n",
       "      <td>Fiber optic</td>\n",
       "      <td>Electronic check</td>\n",
       "      <td>0.500000</td>\n",
       "      <td>False</td>\n",
       "      <td>False</td>\n",
       "      <td>False</td>\n",
       "      <td>True</td>\n",
       "      <td>True</td>\n",
       "      <td>False</td>\n",
       "      <td>True</td>\n",
       "      <td>False</td>\n",
       "      <td>0</td>\n",
       "    </tr>\n",
       "    <tr>\n",
       "      <th>4890</th>\n",
       "      <td>Male</td>\n",
       "      <td>No</td>\n",
       "      <td>84.40</td>\n",
       "      <td>4484.05</td>\n",
       "      <td>One year</td>\n",
       "      <td>Fiber optic</td>\n",
       "      <td>Electronic check</td>\n",
       "      <td>4.500000</td>\n",
       "      <td>False</td>\n",
       "      <td>False</td>\n",
       "      <td>False</td>\n",
       "      <td>True</td>\n",
       "      <td>False</td>\n",
       "      <td>False</td>\n",
       "      <td>True</td>\n",
       "      <td>True</td>\n",
       "      <td>0</td>\n",
       "    </tr>\n",
       "  </tbody>\n",
       "</table>\n",
       "</div>"
      ],
      "text/plain": [
       "      gender multiple_lines  monthly_charges total_charges   contract_type  \\\n",
       "5670    Male             No            20.35           122  Month-to-month   \n",
       "4152  Female             No            89.25        487.05  Month-to-month   \n",
       "4890    Male             No            84.40       4484.05        One year   \n",
       "\n",
       "     internet_service_type             payment_type  monthly_tenure  \\\n",
       "5670                  None  Credit card (automatic)        0.416667   \n",
       "4152           Fiber optic         Electronic check        0.500000   \n",
       "4890           Fiber optic         Electronic check        4.500000   \n",
       "\n",
       "      is_family  is_couple  is_senior  has_phones  has_paperless_billing  \\\n",
       "5670       True      False      False        True                  False   \n",
       "4152      False      False      False        True                   True   \n",
       "4890      False      False      False        True                  False   \n",
       "\n",
       "      has_streaming  has_support_features  has_security_features  is_churn  \n",
       "5670          False                 False                  False         0  \n",
       "4152          False                  True                  False         0  \n",
       "4890          False                  True                   True         0  "
      ]
     },
     "execution_count": 28,
     "metadata": {},
     "output_type": "execute_result"
    }
   ],
   "source": [
    "train.head(3)"
   ]
  },
  {
   "cell_type": "code",
   "execution_count": 29,
   "metadata": {
    "slideshow": {
     "slide_type": "slide"
    }
   },
   "outputs": [
    {
     "data": {
      "text/plain": [
       "Text(0, 0.5, 'Number of Churned Clients')"
      ]
     },
     "execution_count": 29,
     "metadata": {},
     "output_type": "execute_result"
    },
    {
     "data": {
      "image/png": "[encoded data removed]",
      "text/plain": [
       "<Figure size 432x288 with 1 Axes>"
      ]
     },
     "metadata": {
      "needs_background": "light"
     },
     "output_type": "display_data"
    }
   ],
   "source": [
    "# Calculating and showing the overall churn rate\n",
    "train.is_churn.value_counts().sort_index().plot.bar(color='cornflowerblue', edgecolor='darkblue', alpha=0.5)\n",
    "survival_rate = train.is_churn.mean()\n",
    "plt.title(f\"Overall churn rate rate: {survival_rate:.2%}\")\n",
    "plt.xlabel('Churned')\n",
    "plt.ylabel(\"Number of Churned Clients\")"
   ]
  },
  {
   "cell_type": "code",
   "execution_count": 30,
   "metadata": {
    "slideshow": {
     "slide_type": "slide"
    }
   },
   "outputs": [
    {
     "data": {
      "text/plain": [
       "(18.148999999999997, 38.32]     989\n",
       "(38.32, 58.39]                  578\n",
       "(58.39, 78.46]                  775\n",
       "(78.46, 98.53]                 1002\n",
       "(98.53, 118.6]                  599\n",
       "Name: monthly_charges, dtype: int64"
      ]
     },
     "execution_count": 30,
     "metadata": {},
     "output_type": "execute_result"
    }
   ],
   "source": [
    "# sort = false will sort the bin values as opposed to the frequency counts\n",
    "# value counts of monthly_charges by binning\n",
    "train.monthly_charges.value_counts(bins=5, sort=False)"
   ]
  },
  {
   "cell_type": "code",
   "execution_count": 31,
   "metadata": {
    "slideshow": {
     "slide_type": "slide"
    }
   },
   "outputs": [
    {
     "data": {
      "text/plain": [
       "<matplotlib.axes._subplots.AxesSubplot at 0x7fc153bb4a10>"
      ]
     },
     "execution_count": 31,
     "metadata": {},
     "output_type": "execute_result"
    },
    {
     "data": {
      "image/png": "[encoded data removed]",
      "text/plain": [
       "<Figure size 432x288 with 1 Axes>"
      ]
     },
     "metadata": {
      "needs_background": "light"
     },
     "output_type": "display_data"
    }
   ],
   "source": [
    "#visualizing the distribution of monthly charges\n",
    "sns.distplot(train.monthly_charges, color='cornflowerblue')"
   ]
  },
  {
   "cell_type": "code",
   "execution_count": 32,
   "metadata": {
    "scrolled": true,
    "slideshow": {
     "slide_type": "slide"
    }
   },
   "outputs": [
    {
     "data": {
      "text/plain": [
       "<matplotlib.legend.Legend at 0x7fc14e059750>"
      ]
     },
     "execution_count": 32,
     "metadata": {},
     "output_type": "execute_result"
    },
    {
     "data": {
      "image/png": "[encoded data removed]",
      "text/plain": [
       "<Figure size 432x288 with 1 Axes>"
      ]
     },
     "metadata": {
      "needs_background": "light"
     },
     "output_type": "display_data"
    }
   ],
   "source": [
    "sns.swarmplot(x=\"is_family\", y=\"monthly_charges\", data=train, hue=\"is_churn\", palette=\"Set2\")\n",
    "plt.legend()"
   ]
  },
  {
   "cell_type": "code",
   "execution_count": 33,
   "metadata": {
    "slideshow": {
     "slide_type": "slide"
    }
   },
   "outputs": [
    {
     "data": {
      "image/png": "[encoded data removed]",
      "text/plain": [
       "<Figure size 2160x864 with 6 Axes>"
      ]
     },
     "metadata": {
      "needs_background": "light"
     },
     "output_type": "display_data"
    }
   ],
   "source": [
    "features = [\"has_security_features\", 'has_support_features', \"has_streaming\", \"is_senior\", \"is_family\",  \"is_couple\"]\n",
    "_, ax = plt.subplots(nrows=1, ncols=6, figsize=(30, 12))\n",
    "\n",
    "for i, feature in enumerate(features):\n",
    "    sns.violinplot(\n",
    "        feature,\n",
    "        \"monthly_charges\",\n",
    "        hue=\"is_churn\",\n",
    "        data=train,\n",
    "        split=True,\n",
    "        ax=ax[i],\n",
    "        palette=[\"pink\", \"turquoise\"],\n",
    "    )"
   ]
  },
  {
   "cell_type": "code",
   "execution_count": 34,
   "metadata": {
    "slideshow": {
     "slide_type": "slide"
    }
   },
   "outputs": [
    {
     "data": {
      "text/plain": [
       "0    5174\n",
       "1    1869\n",
       "Name: is_churn, dtype: int64"
      ]
     },
     "execution_count": 34,
     "metadata": {},
     "output_type": "execute_result"
    }
   ],
   "source": [
    "#Making a baseline prediction\n",
    "telco.is_churn.value_counts()"
   ]
  },
  {
   "cell_type": "code",
   "execution_count": 35,
   "metadata": {
    "slideshow": {
     "slide_type": "subslide"
    }
   },
   "outputs": [],
   "source": [
    "#concatenating the baseline prediction to the df\n",
    "telco['baseline_prediction'] = 'not_churn'"
   ]
  },
  {
   "cell_type": "markdown",
   "metadata": {
    "slideshow": {
     "slide_type": "slide"
    }
   },
   "source": [
    "### Findings:\n",
    "<ul>\n",
    "<li> Clients who are non seniors will churn pay a higher monthly charge than non seniors that choose not to churn.\n",
    "<li> Clients with premium features such as secutiry features and streaming pay a higher monthly charge are more likely to churn than those who pay lower cost or have no premium features.\n",
    "<li> Clients who are part of a family are also more likely to pay more and slightly more likely to churn.\n",
    "<li> At the time of data collection, 14.22% of clients are paying between $ 78.46 and $ 98.53 for monthly charges while 8.5% of customers pay over $98.53 for monthly charges.\n",
    "<li> Overall, clients are more likely to not churn.\n",
    "</u.><br>"
   ]
  },
  {
   "cell_type": "markdown",
   "metadata": {
    "slideshow": {
     "slide_type": "slide"
    }
   },
   "source": [
    "## Modeling and Evaluation"
   ]
  },
  {
   "cell_type": "code",
   "execution_count": 37,
   "metadata": {
    "slideshow": {
     "slide_type": "slide"
    }
   },
   "outputs": [
    {
     "name": "stdout",
     "output_type": "stream",
     "text": [
      "train:  (3943, 6) , validate:  (1691, 6) , test:  (1409, 6)\n",
      "train:  (3943, 1) , validate:  (1691, 1) , test:  (1409, 1)\n"
     ]
    }
   ],
   "source": [
    "#Making Train Validate Test and Split\n",
    "X = telco[[\"has_security_features\", 'has_support_features', \"has_streaming\", \"is_senior\", \"is_family\",  \"is_couple\"]]\n",
    "y = telco[['is_churn']]\n",
    "\n",
    "X_train_validate, X_test, y_train_validate, y_test = train_test_split(X, y, test_size = .20, random_state = 123)\n",
    "\n",
    "X_train, X_validate, y_train, y_validate = train_test_split(X_train_validate, y_train_validate, test_size = .30, random_state = 123)\n",
    "\n",
    "print(\"train: \", X_train.shape, \", validate: \", X_validate.shape, \", test: \", X_test.shape)\n",
    "print(\"train: \", y_train.shape, \", validate: \", y_validate.shape, \", test: \", y_test.shape)"
   ]
  },
  {
   "cell_type": "markdown",
   "metadata": {
    "slideshow": {
     "slide_type": "slide"
    }
   },
   "source": [
    "### Logistic Regression\n",
    "#### Computing the Logistic Regression Model"
   ]
  },
  {
   "cell_type": "code",
   "execution_count": 38,
   "metadata": {
    "slideshow": {
     "slide_type": "subslide"
    }
   },
   "outputs": [],
   "source": [
    "# setting up the linear regression object\n",
    "# C (Inverse of regularization strength) = 1\n",
    "logit = LogisticRegression(C=1, class_weight={0:1, 1:99}, random_state=123, intercept_scaling=1, solver='lbfgs')"
   ]
  },
  {
   "cell_type": "code",
   "execution_count": 39,
   "metadata": {
    "slideshow": {
     "slide_type": "subslide"
    }
   },
   "outputs": [
    {
     "data": {
      "text/plain": [
       "LogisticRegression(C=1, class_weight={0: 1, 1: 99}, dual=False,\n",
       "                   fit_intercept=True, intercept_scaling=1, l1_ratio=None,\n",
       "                   max_iter=100, multi_class='auto', n_jobs=None, penalty='l2',\n",
       "                   random_state=123, solver='lbfgs', tol=0.0001, verbose=0,\n",
       "                   warm_start=False)"
      ]
     },
     "execution_count": 39,
     "metadata": {},
     "output_type": "execute_result"
    }
   ],
   "source": [
    "# fitting the logit to the x train and y train\n",
    "logit.fit(X_train, y_train)"
   ]
  },
  {
   "cell_type": "code",
   "execution_count": 40,
   "metadata": {
    "slideshow": {
     "slide_type": "subslide"
    }
   },
   "outputs": [],
   "source": [
    "#Estimate whether or not a client would churn, using the training data\n",
    "y_pred_1 = logit.predict(X_train)\n",
    "#Estimate the probability of a client churning, using the training data\n",
    "y_pred_proba_1 = logit.predict_proba(X_train)"
   ]
  },
  {
   "cell_type": "markdown",
   "metadata": {
    "slideshow": {
     "slide_type": "slide"
    }
   },
   "source": [
    "\n",
    "##### Evaluating the Logistic Regression Model"
   ]
  },
  {
   "cell_type": "code",
   "execution_count": 41,
   "metadata": {
    "slideshow": {
     "slide_type": "subslide"
    }
   },
   "outputs": [
    {
     "name": "stdout",
     "output_type": "stream",
     "text": [
      "              precision    recall  f1-score   support\n",
      "\n",
      "           0       0.00      0.00      0.00      2896\n",
      "           1       0.27      1.00      0.42      1047\n",
      "\n",
      "    accuracy                           0.27      3943\n",
      "   macro avg       0.13      0.50      0.21      3943\n",
      "weighted avg       0.07      0.27      0.11      3943\n",
      "\n",
      "The accuracy of the Logistic Regression classifier on training set: 0.27\n"
     ]
    }
   ],
   "source": [
    "# Compute Precision, Recall, F1-score, and Support\n",
    "print(classification_report(y_train, y_pred_1))\n",
    "print('The accuracy of the Logistic Regression classifier on training set: {:.2f}'.format(logit.score(X_train, y_train)))"
   ]
  },
  {
   "cell_type": "markdown",
   "metadata": {
    "slideshow": {
     "slide_type": "subslide"
    }
   },
   "source": [
    "<b><i>Precision:</b></i> Churn was identified 27% of the the time.<br>\n",
    "<b><i>Recall:</b></i> The recall score is high for predicting churn\n",
    "which means alot of churn was not missed, however as a result there is a low precision rate.<br>\n",
    "<b><i>f1-score: </b></i>The f1 score is 42%. This means that the recall and precision don't have equal weight. This is evident by the low precision and high recall. <br>\n",
    "<b><i>Support: </b></i> There are 1047 instances of the y being true."
   ]
  },
  {
   "cell_type": "markdown",
   "metadata": {
    "slideshow": {
     "slide_type": "slide"
    }
   },
   "source": [
    "#### Evaluating the Logistic Regression Models against the Validate (unseen) data"
   ]
  },
  {
   "cell_type": "code",
   "execution_count": 42,
   "metadata": {
    "slideshow": {
     "slide_type": "subslide"
    }
   },
   "outputs": [
    {
     "name": "stdout",
     "output_type": "stream",
     "text": [
      "              precision    recall  f1-score   support\n",
      "\n",
      "           0       0.00      0.00      0.00      1253\n",
      "           1       0.26      1.00      0.41       438\n",
      "\n",
      "    accuracy                           0.26      1691\n",
      "   macro avg       0.13      0.50      0.21      1691\n",
      "weighted avg       0.07      0.26      0.11      1691\n",
      "\n",
      "The accuracy of the Logistic Regression classifier on validate set: 0.26\n"
     ]
    }
   ],
   "source": [
    "y_pred1 = logit.predict(X_validate)\n",
    "\n",
    "print(classification_report(y_validate, y_pred1))\n",
    "print('The accuracy of the Logistic Regression classifier on validate set: {:.2f}'.format(logit.score(X_validate, y_validate)))"
   ]
  },
  {
   "cell_type": "markdown",
   "metadata": {
    "slideshow": {
     "slide_type": "subslide"
    }
   },
   "source": [
    "<b><i>Precision:</b></i> Churn was identified 26% of the the time.<br>\n",
    "<b><i>Recall:</b></i> The recall score is high which means alot of churn was not missed, however as a result there is a low precision rate.<br>\n",
    "<b><i>f1-score: </b></i>The f1 score is 41%. This means that the recall and precision don't have equal weight. This is evident by the low precision and high recall. <br>\n",
    "<b><i>Support: </b></i> There are 1691 instances of the y being true."
   ]
  },
  {
   "cell_type": "markdown",
   "metadata": {
    "slideshow": {
     "slide_type": "slide"
    }
   },
   "source": [
    "### Decision Tree"
   ]
  },
  {
   "cell_type": "code",
   "execution_count": 43,
   "metadata": {
    "slideshow": {
     "slide_type": "subslide"
    }
   },
   "outputs": [
    {
     "name": "stdout",
     "output_type": "stream",
     "text": [
      "train:  (3943, 6) , validate:  (1691, 6) , test:  (1409, 6)\n",
      "train:  (3943, 1) , validate:  (1691, 1) , test:  (1409, 1)\n"
     ]
    }
   ],
   "source": [
    "#Making Train Validate Test and Split\n",
    "X = telco[[\"has_security_features\", 'has_support_features', \"has_streaming\", \"is_senior\", \"is_family\",  \"is_couple\"]]\n",
    "y = telco[['is_churn']]\n",
    "\n",
    "X_train_validate2, X_test2, y_train_validate2, y_test2 = train_test_split(X, y, test_size = .20, random_state = 123)\n",
    "\n",
    "X_train2, X_validate2, y_train2, y_validate2 = train_test_split(X_train_validate, y_train_validate, test_size = .30, random_state = 123)\n",
    "\n",
    "print(\"train: \", X_train2.shape, \", validate: \", X_validate2.shape, \", test: \", X_test2.shape)\n",
    "print(\"train: \", y_train2.shape, \", validate: \", y_validate2.shape, \", test: \", y_test2.shape)"
   ]
  },
  {
   "cell_type": "code",
   "execution_count": 44,
   "metadata": {
    "slideshow": {
     "slide_type": "subslide"
    }
   },
   "outputs": [],
   "source": [
    "# Create the Decision Tree Object\n",
    "clf = DecisionTreeClassifier(max_depth=10, random_state=123)"
   ]
  },
  {
   "cell_type": "code",
   "execution_count": 45,
   "metadata": {
    "slideshow": {
     "slide_type": "subslide"
    }
   },
   "outputs": [
    {
     "data": {
      "text/plain": [
       "DecisionTreeClassifier(ccp_alpha=0.0, class_weight=None, criterion='gini',\n",
       "                       max_depth=10, max_features=None, max_leaf_nodes=None,\n",
       "                       min_impurity_decrease=0.0, min_impurity_split=None,\n",
       "                       min_samples_leaf=1, min_samples_split=2,\n",
       "                       min_weight_fraction_leaf=0.0, presort='deprecated',\n",
       "                       random_state=123, splitter='best')"
      ]
     },
     "execution_count": 45,
     "metadata": {},
     "output_type": "execute_result"
    }
   ],
   "source": [
    "# Fit the model to the training data\n",
    "clf.fit(X_train2, y_train2)"
   ]
  },
  {
   "cell_type": "markdown",
   "metadata": {
    "slideshow": {
     "slide_type": "slide"
    }
   },
   "source": [
    "##### Evaluating the Decision Tree Model"
   ]
  },
  {
   "cell_type": "code",
   "execution_count": 46,
   "metadata": {
    "slideshow": {
     "slide_type": "subslide"
    }
   },
   "outputs": [],
   "source": [
    "clf.score(X_train2, y_train2)\n",
    "#make a prediction with traning data\n",
    "y_pred_2 = clf.predict(X_train2)\n",
    "#estimate prob of churn with training data\n",
    "y_pred_proba_2 = clf.predict_proba(X_train2)"
   ]
  },
  {
   "cell_type": "code",
   "execution_count": 47,
   "metadata": {
    "slideshow": {
     "slide_type": "subslide"
    }
   },
   "outputs": [
    {
     "name": "stdout",
     "output_type": "stream",
     "text": [
      "              precision    recall  f1-score   support\n",
      "\n",
      "           0       0.75      0.96      0.84      2896\n",
      "           1       0.52      0.12      0.19      1047\n",
      "\n",
      "    accuracy                           0.74      3943\n",
      "   macro avg       0.63      0.54      0.52      3943\n",
      "weighted avg       0.69      0.74      0.67      3943\n",
      "\n",
      "The accuracy of the Decision Tree classifier on the training set: 0.74\n"
     ]
    }
   ],
   "source": [
    "## Printing a classification report\n",
    "print(classification_report(y_train2, y_pred_2))\n",
    "print('The accuracy of the Decision Tree classifier on the training set: {:.2f}'.format(clf.score(X_train2, y_train2)))"
   ]
  },
  {
   "cell_type": "markdown",
   "metadata": {
    "slideshow": {
     "slide_type": "subslide"
    }
   },
   "source": [
    "<b><i>Precision:</b></i> Not Churn was identified 75% of the the time. While churn was identified 52% of the time.<br>\n",
    "<b><i>Recall:</b></i> The recall score is high for not churn which means alot of the not churn was not missed. However the recall score for churn was low.<br>\n",
    "<b><i>f1-score: </b></i>The f1 score is 74%. This means that the recall and precision have close to equal weight. This is evident by the high precision and high recall for not churn. <br>\n",
    "<b><i>Support: </b></i> There are 3943 instances of the y being true."
   ]
  },
  {
   "cell_type": "markdown",
   "metadata": {
    "slideshow": {
     "slide_type": "slide"
    }
   },
   "source": [
    "#### Evaluating the Decision Tree Model against the Validate (unseen) data"
   ]
  },
  {
   "cell_type": "code",
   "execution_count": 48,
   "metadata": {
    "slideshow": {
     "slide_type": "subslide"
    }
   },
   "outputs": [
    {
     "name": "stdout",
     "output_type": "stream",
     "text": [
      "              precision    recall  f1-score   support\n",
      "\n",
      "           0       0.75      0.96      0.84      2896\n",
      "           1       0.52      0.12      0.19      1047\n",
      "\n",
      "    accuracy                           0.74      3943\n",
      "   macro avg       0.63      0.54      0.52      3943\n",
      "weighted avg       0.69      0.74      0.67      3943\n",
      "\n",
      "The accuracy of Decision Tree on validate set: 0.75\n"
     ]
    }
   ],
   "source": [
    "# Evaluate the Model with the validate dataset\n",
    "clf.score(X_validate2, y_validate2)\n",
    "\n",
    "print(classification_report(y_train2, y_pred_2))\n",
    "print('The accuracy of Decision Tree on validate set: {:.2f}'.format(clf.score(X_validate2, y_validate2)))"
   ]
  },
  {
   "cell_type": "markdown",
   "metadata": {
    "slideshow": {
     "slide_type": "slide"
    }
   },
   "source": [
    "### Random Forest Model"
   ]
  },
  {
   "cell_type": "code",
   "execution_count": 49,
   "metadata": {
    "slideshow": {
     "slide_type": "subslide"
    }
   },
   "outputs": [
    {
     "name": "stdout",
     "output_type": "stream",
     "text": [
      "train:  (3943, 6) , validate:  (1691, 6) , test:  (1409, 6)\n",
      "train:  (3943, 1) , validate:  (1691, 1) , test:  (1409, 1)\n"
     ]
    }
   ],
   "source": [
    "#Making Train Validate Test and Split\n",
    "X = telco[[\"has_security_features\", 'has_support_features', \"has_streaming\", \"is_senior\", \"is_family\",  \"is_couple\"]]\n",
    "y = telco[['is_churn']]\n",
    "\n",
    "X_train_validate3, X_test3, y_train_validate3, y_test3 = train_test_split(X, y, test_size = .20, random_state = 123)\n",
    "\n",
    "X_train3, X_validate3, y_train3, y_validate3 = train_test_split(X_train_validate, y_train_validate, test_size = .30, random_state = 123)\n",
    "\n",
    "print(\"train: \", X_train3.shape, \", validate: \", X_validate3.shape, \", test: \", X_test3.shape)\n",
    "print(\"train: \", y_train3.shape, \", validate: \", y_validate3.shape, \", test: \", y_test3.shape)"
   ]
  },
  {
   "cell_type": "code",
   "execution_count": 50,
   "metadata": {
    "slideshow": {
     "slide_type": "subslide"
    }
   },
   "outputs": [],
   "source": [
    "# setting up the random forest object\n",
    "rf = RandomForestClassifier(bootstrap=True, \n",
    "                            class_weight=None, \n",
    "                            criterion='gini',\n",
    "                            min_samples_leaf=30,\n",
    "                            n_estimators=150,\n",
    "                            max_depth=25, \n",
    "                            random_state=123)"
   ]
  },
  {
   "cell_type": "code",
   "execution_count": 51,
   "metadata": {
    "slideshow": {
     "slide_type": "subslide"
    }
   },
   "outputs": [
    {
     "data": {
      "text/plain": [
       "RandomForestClassifier(bootstrap=True, ccp_alpha=0.0, class_weight=None,\n",
       "                       criterion='gini', max_depth=25, max_features='auto',\n",
       "                       max_leaf_nodes=None, max_samples=None,\n",
       "                       min_impurity_decrease=0.0, min_impurity_split=None,\n",
       "                       min_samples_leaf=30, min_samples_split=2,\n",
       "                       min_weight_fraction_leaf=0.0, n_estimators=150,\n",
       "                       n_jobs=None, oob_score=False, random_state=123,\n",
       "                       verbose=0, warm_start=False)"
      ]
     },
     "execution_count": 51,
     "metadata": {},
     "output_type": "execute_result"
    }
   ],
   "source": [
    "# fitting the train data to the rf\n",
    "rf.fit(X_train3, y_train3)"
   ]
  },
  {
   "cell_type": "code",
   "execution_count": 52,
   "metadata": {
    "slideshow": {
     "slide_type": "subslide"
    }
   },
   "outputs": [],
   "source": [
    "# Estimate whether or not a client would churn, using the training data\n",
    "y_pred_3 = rf.predict(X_train3)"
   ]
  },
  {
   "cell_type": "code",
   "execution_count": 53,
   "metadata": {
    "slideshow": {
     "slide_type": "subslide"
    }
   },
   "outputs": [],
   "source": [
    "# Estimate the probability of a client churning, using the training data\n",
    "y_pred_proba_3 = rf.predict_proba(X_train3)"
   ]
  },
  {
   "cell_type": "markdown",
   "metadata": {
    "slideshow": {
     "slide_type": "slide"
    }
   },
   "source": [
    "##### Evaluating the Random Forest Model"
   ]
  },
  {
   "cell_type": "code",
   "execution_count": 54,
   "metadata": {
    "slideshow": {
     "slide_type": "subslide"
    }
   },
   "outputs": [
    {
     "data": {
      "text/plain": [
       "0.7367486685265027"
      ]
     },
     "execution_count": 54,
     "metadata": {},
     "output_type": "execute_result"
    }
   ],
   "source": [
    "#computing the accuracy of the random forest classifier on the training set\n",
    "rf.score(X_train3, y_train3)"
   ]
  },
  {
   "cell_type": "code",
   "execution_count": 55,
   "metadata": {
    "slideshow": {
     "slide_type": "subslide"
    }
   },
   "outputs": [
    {
     "name": "stdout",
     "output_type": "stream",
     "text": [
      "              precision    recall  f1-score   support\n",
      "\n",
      "           0       0.75      0.96      0.84      2896\n",
      "           1       0.52      0.12      0.19      1047\n",
      "\n",
      "    accuracy                           0.74      3943\n",
      "   macro avg       0.63      0.54      0.52      3943\n",
      "weighted avg       0.69      0.74      0.67      3943\n",
      "\n",
      "Accuracy of Random Forest Model on training set: 0.74\n"
     ]
    }
   ],
   "source": [
    "print(classification_report(y_train3, y_pred_3))\n",
    "print('Accuracy of Random Forest Model on training set: {:.2f}'.format(rf.score(X_train3, y_train3)))"
   ]
  },
  {
   "cell_type": "markdown",
   "metadata": {
    "slideshow": {
     "slide_type": "subslide"
    }
   },
   "source": [
    "<b><i>Precision:</b></i> Not Churn was identified 75% of the the time and Churn was identified 52% of the time.<br>\n",
    "<b><i>Recall:</b></i> The recall score is high for not churn which means alot of the not churn was not missed. <br>\n",
    "<b><i>f1-score: </b></i>The f1 score is 84%. This means that the recall and precision have close to equal weight. This is evident by the high precision and high recall for not churn. <br>\n",
    "<b><i>Support: </b></i> There are 3943 instances of the y being true."
   ]
  },
  {
   "cell_type": "markdown",
   "metadata": {
    "slideshow": {
     "slide_type": "slide"
    }
   },
   "source": [
    "#### Evaluating the Random Forest Model against the Validate (unseen) data"
   ]
  },
  {
   "cell_type": "code",
   "execution_count": 56,
   "metadata": {
    "slideshow": {
     "slide_type": "subslide"
    }
   },
   "outputs": [
    {
     "name": "stdout",
     "output_type": "stream",
     "text": [
      "              precision    recall  f1-score   support\n",
      "\n",
      "           0       0.75      0.96      0.84      2896\n",
      "           1       0.52      0.12      0.19      1047\n",
      "\n",
      "    accuracy                           0.74      3943\n",
      "   macro avg       0.63      0.54      0.52      3943\n",
      "weighted avg       0.69      0.74      0.67      3943\n",
      "\n",
      "The accuracy of Decision Tree on validate set: 0.75\n"
     ]
    }
   ],
   "source": [
    "# Evaluate the Model with the validate dataset\n",
    "rf.score(X_validate3, y_validate3)\n",
    "\n",
    "print(classification_report(y_train3, y_pred_3))\n",
    "print('The accuracy of Decision Tree on validate set: {:.2f}'.format(rf.score(X_validate2, y_validate2)))"
   ]
  },
  {
   "cell_type": "markdown",
   "metadata": {
    "slideshow": {
     "slide_type": "slide"
    }
   },
   "source": [
    "### K Nearest Neighbor (KNN) Model"
   ]
  },
  {
   "cell_type": "code",
   "execution_count": 57,
   "metadata": {
    "slideshow": {
     "slide_type": "subslide"
    }
   },
   "outputs": [
    {
     "name": "stdout",
     "output_type": "stream",
     "text": [
      "train:  (3943, 6) , validate:  (1691, 6) , test:  (1409, 6)\n",
      "train:  (3943, 1) , validate:  (1691, 1) , test:  (1409, 1)\n"
     ]
    }
   ],
   "source": [
    "#Making Train Validate Test and Split\n",
    "X = telco[[\"has_security_features\", 'has_support_features', \"has_streaming\", \"is_senior\", \"is_family\",  \"is_couple\"]]\n",
    "y = telco[['is_churn']]\n",
    "\n",
    "X_train_validate4, X_test4, y_train_validate4, y_test4 = train_test_split(X, y, test_size = .20, random_state = 123)\n",
    "\n",
    "X_train4, X_validate4, y_train4, y_validate4 = train_test_split(X_train_validate, y_train_validate, test_size = .30, random_state = 123)\n",
    "\n",
    "print(\"train: \", X_train4.shape, \", validate: \", X_validate4.shape, \", test: \", X_test4.shape)\n",
    "print(\"train: \", y_train4.shape, \", validate: \", y_validate4.shape, \", test: \", y_test4.shape)"
   ]
  },
  {
   "cell_type": "code",
   "execution_count": 58,
   "metadata": {
    "slideshow": {
     "slide_type": "subslide"
    }
   },
   "outputs": [],
   "source": [
    "#Creating the KNN Object\n",
    "knn = KNeighborsClassifier(n_neighbors=2, weights='distance')"
   ]
  },
  {
   "cell_type": "code",
   "execution_count": 59,
   "metadata": {
    "slideshow": {
     "slide_type": "subslide"
    }
   },
   "outputs": [
    {
     "data": {
      "text/plain": [
       "KNeighborsClassifier(algorithm='auto', leaf_size=30, metric='minkowski',\n",
       "                     metric_params=None, n_jobs=None, n_neighbors=2, p=2,\n",
       "                     weights='distance')"
      ]
     },
     "execution_count": 59,
     "metadata": {},
     "output_type": "execute_result"
    }
   ],
   "source": [
    "#Fit the KNN model to the training data\n",
    "knn.fit(X_train4, y_train4)"
   ]
  },
  {
   "cell_type": "code",
   "execution_count": 60,
   "metadata": {
    "slideshow": {
     "slide_type": "subslide"
    }
   },
   "outputs": [],
   "source": [
    "#Estimate whether or not a client would churn, using the training data\n",
    "y_pred_4 = knn.predict(X_train4)\n",
    "#Estimate the probability of a client churning, using the training data\n",
    "y_pred_proba_4 = knn.predict_proba(X_train4)"
   ]
  },
  {
   "cell_type": "markdown",
   "metadata": {
    "slideshow": {
     "slide_type": "slide"
    }
   },
   "source": [
    "##### Evaluating the KNN Model"
   ]
  },
  {
   "cell_type": "code",
   "execution_count": 61,
   "metadata": {
    "slideshow": {
     "slide_type": "subslide"
    }
   },
   "outputs": [
    {
     "name": "stdout",
     "output_type": "stream",
     "text": [
      "              precision    recall  f1-score   support\n",
      "\n",
      "           0       0.74      0.96      0.84      2896\n",
      "           1       0.45      0.08      0.13      1047\n",
      "\n",
      "    accuracy                           0.73      3943\n",
      "   macro avg       0.60      0.52      0.49      3943\n",
      "weighted avg       0.67      0.73      0.65      3943\n",
      "\n",
      "The accuracy of the KNN classifier on training set: 0.73\n"
     ]
    }
   ],
   "source": [
    "#Computing Precision, Recall, F1-score, and Support\n",
    "knn.score(X_train4, y_train4)\n",
    "print(classification_report(y_train4, y_pred_4))\n",
    "print('The accuracy of the KNN classifier on training set: {:.2f}'.format(knn.score(X_train4, y_train4)))"
   ]
  },
  {
   "cell_type": "markdown",
   "metadata": {
    "slideshow": {
     "slide_type": "subslide"
    }
   },
   "source": [
    "<b><i>Precision:</b></i> Not Churn was identified 74% of the the time.<br>\n",
    "<b><i>Recall:</b></i> The recall score is high for not churn which means alot of the not churn was not missed. <br>\n",
    "<b><i>f1-score: </b></i>The f1 score is 84%. This means that the recall and precision have close to equal weight. This is evident by the high precision and high recall for not churn. <br>\n",
    "<b><i>Support: </b></i> There are 3943 instances of the y being true."
   ]
  },
  {
   "cell_type": "markdown",
   "metadata": {
    "slideshow": {
     "slide_type": "slide"
    }
   },
   "source": [
    "#### Evaluating the KNN Model against the Validate (unseen) data"
   ]
  },
  {
   "cell_type": "code",
   "execution_count": 62,
   "metadata": {
    "slideshow": {
     "slide_type": "subslide"
    }
   },
   "outputs": [
    {
     "name": "stdout",
     "output_type": "stream",
     "text": [
      "              precision    recall  f1-score   support\n",
      "\n",
      "           0       0.74      0.96      0.84      2896\n",
      "           1       0.45      0.08      0.13      1047\n",
      "\n",
      "    accuracy                           0.73      3943\n",
      "   macro avg       0.60      0.52      0.49      3943\n",
      "weighted avg       0.67      0.73      0.65      3943\n",
      "\n",
      "The accuracy of KNN on validate set:0.72\n"
     ]
    }
   ],
   "source": [
    "# Evaluate the Model with the validate dataset\n",
    "knn.score(X_validate4, y_validate4)\n",
    "\n",
    "print(classification_report(y_train4, y_pred_4))\n",
    "print('The accuracy of KNN on validate set:{:.2f}'.format((knn.score(X_validate4, y_validate4))))"
   ]
  },
  {
   "cell_type": "markdown",
   "metadata": {
    "slideshow": {
     "slide_type": "slide"
    }
   },
   "source": [
    "### Modeling Summary\n",
    "<ul>\n",
    "<li>The baseline model was created by predicting the no churn every time.\n",
    "<li>Each model has been evaluated based on accuracy, precision and recall.\n",
    "<li>The model that is the best fit has the highest accuracy as it will correctly predict who is churning and who is not churning.\n",
    "<li>The best fitting models for the data are the decision tree and random forest. Those two have an accuracy of predicting who is churning 75% of the time."
   ]
  },
  {
   "cell_type": "code",
   "execution_count": 65,
   "metadata": {
    "slideshow": {
     "slide_type": "subslide"
    }
   },
   "outputs": [
    {
     "name": "stdout",
     "output_type": "stream",
     "text": [
      "The accuracy of the Decision Tree classifier on the test set: 0.75\n",
      "The accuracy of the Random Forest classifier on the test set: 0.75\n"
     ]
    }
   ],
   "source": [
    "print('The accuracy of the Decision Tree classifier on the test set: {:.2f}'.format(clf.score(X_test2, y_test2)))\n",
    "print('The accuracy of the Random Forest classifier on the test set: {:.2f}'.format(rf.score(X_test3, y_test3)))"
   ]
  },
  {
   "cell_type": "markdown",
   "metadata": {
    "slideshow": {
     "slide_type": "slide"
    }
   },
   "source": [
    "## Conclusion"
   ]
  },
  {
   "cell_type": "markdown",
   "metadata": {
    "slideshow": {
     "slide_type": "subslide"
    }
   },
   "source": [
    "\n",
    "<ul>\n",
    "    <li>Clients who are non-seniors, who have premium features such a streaming, security features and support features are more likely to churn and they are paying a higher monthly cost. Clients who either have a partner or a family also are likely to pay more. \n",
    "\n",
    " <li> Through analyzing the data, we have found that the customers who churn are paying more. This can be explained by the additional features that many customers have.\n",
    "\n",
    " <li> If more time was allotted,  the data science team would evaluate which contract option has the highest amount of churn.\n",
    "\n",
    "\n",
    " <li> Next steps would be to find out what each specific features cost, evaluate which group of non-seniors are churning (ie. college age vs middle adult) and what competitors pricing for similar features are.\n",
    "\n",
    "<li> My recommendation to retain customers would be to investigate offering bundle deals and having customers sign contracts to reduce the churn with the company."
   ]
  }
 ],
 "metadata": {
  "celltoolbar": "Slideshow",
  "kernelspec": {
   "display_name": "Python 3",
   "language": "python",
   "name": "python3"
  },
  "language_info": {
   "codemirror_mode": {
    "name": "ipython",
    "version": 3
   },
   "file_extension": ".py",
   "mimetype": "text/x-python",
   "name": "python",
   "nbconvert_exporter": "python",
   "pygments_lexer": "ipython3",
   "version": "3.7.6"
  }
 },
 "nbformat": 4,
 "nbformat_minor": 4
}
